{
 "cells": [
  {
   "cell_type": "markdown",
   "metadata": {},
   "source": [
    "# 4장 Matplotlib을 활용한 시작화"
   ]
  },
  {
   "cell_type": "markdown",
   "metadata": {},
   "source": [
    "## <u>Basemap을 활용한 지리 데이터</u>"
   ]
  },
  {
   "cell_type": "code",
   "execution_count": 3,
   "metadata": {},
   "outputs": [],
   "source": [
    "# %matplotlib inline\n",
    "# import numpy as np\n",
    "# import matplotlib.pyplot as plt\n",
    "# from mpl_toolkits.basemap import Basemap"
   ]
  },
  {
   "cell_type": "code",
   "execution_count": 4,
   "metadata": {},
   "outputs": [],
   "source": [
    "# plt.figure(figsize=(8,8))\n",
    "# m = Basemap(projection='ortho', resolution=None, lat_0=50, lon_0=-100)\n",
    "# m.bluemarble(scale=0.5);"
   ]
  },
  {
   "cell_type": "markdown",
   "metadata": {},
   "source": [
    "## 지도 투영법(Map Projections)"
   ]
  },
  {
   "cell_type": "markdown",
   "metadata": {},
   "source": [
    "### 원통도법"
   ]
  },
  {
   "cell_type": "markdown",
   "metadata": {},
   "source": [
    "### 의원통보법"
   ]
  },
  {
   "cell_type": "markdown",
   "metadata": {},
   "source": [
    "### 투시도법"
   ]
  },
  {
   "cell_type": "markdown",
   "metadata": {},
   "source": [
    "### 원추도법"
   ]
  },
  {
   "cell_type": "markdown",
   "metadata": {},
   "source": [
    "### 기타 투영법"
   ]
  },
  {
   "cell_type": "markdown",
   "metadata": {},
   "source": [
    "## 지도 배경 그리기"
   ]
  },
  {
   "cell_type": "markdown",
   "metadata": {},
   "source": [
    "- 물리적 경계선과 수면 <br>\n",
    "drawcoastlines(): 대륙의 해안선을 그림<br>\n",
    "drawlsmask(): 이미지를 육지나 바다 중 하나에 투영하기 위한 용도로 육지와 바다 사이에 마스크를 그림<br>\n",
    "drawmapboundary(): 바다의 색을 포함해 지도 경계선을 그림<br>\n",
    "drawrivers(): 지도상에 강을 그림<br>\n",
    "fillcontinents(): 주어진 생상으로 대륙을 채움, 선택적으로 다른 색상으로 호수를 채울 수 있음<br>\n",
    "<br>\n",
    "- 행정구역 경계선<br>\n",
    "drawcountries(): 국가 경계를 그림<br>\n",
    "drawstates(): 미국 주 경계를 그림<br>\n",
    "drawcounties(): 미국 카운티 경계를 그림<br>\n",
    "<br>\n",
    "- 지도 특징<br>\n",
    "drawgreatcircle(): 두 점 사이에 큰 원을 그림<br>\n",
    "drawparallels(): 일정한 위선을 그림<br>\n",
    "drawmeridians(): 일정한 경선을 그림<br>\n",
    "drawmapscale(): 지도상에 선형 눈금을 그림<br>\n",
    "<br>\n",
    "- 전체 지구 이미지<br>\n",
    "bluemarble(): 지도상에 NASA의 블루 마블 이미지를 투영함<br>\n",
    "shadedrelief(): 음영 처리된 선명한 이미지를 지도에 투영함<br>\n",
    "etopo(): etops의 선명한 이미지를 지도상에 그림<br>\n",
    "warpimage(): 사용자가 제공하는 이미지를 지도상에 투영함<br>"
   ]
  },
  {
   "cell_type": "markdown",
   "metadata": {},
   "source": [
    "## 지도상에 데이터 플로팅"
   ]
  },
  {
   "cell_type": "markdown",
   "metadata": {},
   "source": [
    "contour()/contourf() : 등고선 또는 색으로 채워진 등고선을 그림<br>\n",
    "imshow(): 이미지를 그림<br>\n",
    "pcolor()/pcolormesh() : 규칙적/비규칙적 그물망을 위해 이사 색채 플롯을 그림<br>\n",
    "plot(): 선이나 표시자를 그림<br>\n",
    "scatter(): 표시자로 점을 그림<br>\n",
    "quiver(): 벡터를 그림<br>\n",
    "barbs(): 풍속, 풍향 표시자를 그림<br>\n",
    "drawgreatcircle(): 큰 원을 그림<br>"
   ]
  },
  {
   "cell_type": "markdown",
   "metadata": {},
   "source": [
    "### 예제: 캘리포니아 도시"
   ]
  },
  {
   "cell_type": "markdown",
   "metadata": {},
   "source": [
    "### 예제: 표면 온도 데이터"
   ]
  }
 ],
 "metadata": {
  "kernelspec": {
   "display_name": "Python 3",
   "language": "python",
   "name": "python3"
  },
  "language_info": {
   "codemirror_mode": {
    "name": "ipython",
    "version": 3
   },
   "file_extension": ".py",
   "mimetype": "text/x-python",
   "name": "python",
   "nbconvert_exporter": "python",
   "pygments_lexer": "ipython3",
   "version": "3.6.5"
  }
 },
 "nbformat": 4,
 "nbformat_minor": 2
}
