{
 "cells": [
  {
   "cell_type": "markdown",
   "metadata": {},
   "source": [
    "<h1>2장 NumPy 소개</h1>"
   ]
  },
  {
   "cell_type": "markdown",
   "metadata": {},
   "source": [
    "<h2>집계: 최소값, 최대값, 그리고 그 사이의 모든 것</h2>"
   ]
  },
  {
   "cell_type": "markdown",
   "metadata": {},
   "source": [
    "<b>배열의 값의 합 구하기</b>"
   ]
  },
  {
   "cell_type": "code",
   "execution_count": 4,
   "metadata": {},
   "outputs": [
    {
     "data": {
      "text/plain": [
       "52.05140286183495"
      ]
     },
     "execution_count": 4,
     "metadata": {},
     "output_type": "execute_result"
    }
   ],
   "source": [
    "import numpy as np\n",
    "L = np.random.random(100)\n",
    "sum(L)"
   ]
  },
  {
   "cell_type": "code",
   "execution_count": 5,
   "metadata": {},
   "outputs": [
    {
     "data": {
      "text/plain": [
       "52.05140286183496"
      ]
     },
     "execution_count": 5,
     "metadata": {},
     "output_type": "execute_result"
    }
   ],
   "source": [
    "np.sum(L)"
   ]
  },
  {
   "cell_type": "code",
   "execution_count": 6,
   "metadata": {},
   "outputs": [
    {
     "name": "stdout",
     "output_type": "stream",
     "text": [
      "8.39 µs ± 54.5 ns per loop (mean ± std. dev. of 7 runs, 100000 loops each)\n",
      "2.23 µs ± 27.5 ns per loop (mean ± std. dev. of 7 runs, 100000 loops each)\n"
     ]
    }
   ],
   "source": [
    "big_array = np.random.rand(100)\n",
    "%timeit sum(big_array)\n",
    "%timeit np.sum(big_array) "
   ]
  },
  {
   "cell_type": "markdown",
   "metadata": {},
   "source": [
    "<b>최소값과 최대값</b>"
   ]
  },
  {
   "cell_type": "code",
   "execution_count": 7,
   "metadata": {},
   "outputs": [
    {
     "data": {
      "text/plain": [
       "(0.008108956399923928, 0.9885930990134385)"
      ]
     },
     "execution_count": 7,
     "metadata": {},
     "output_type": "execute_result"
    }
   ],
   "source": [
    "min(big_array), max(big_array)"
   ]
  },
  {
   "cell_type": "code",
   "execution_count": 8,
   "metadata": {},
   "outputs": [
    {
     "data": {
      "text/plain": [
       "(0.008108956399923928, 0.9885930990134385)"
      ]
     },
     "execution_count": 8,
     "metadata": {},
     "output_type": "execute_result"
    }
   ],
   "source": [
    "np.min(big_array), np.max(big_array)"
   ]
  },
  {
   "cell_type": "code",
   "execution_count": 9,
   "metadata": {},
   "outputs": [
    {
     "name": "stdout",
     "output_type": "stream",
     "text": [
      "6.85 µs ± 90.7 ns per loop (mean ± std. dev. of 7 runs, 100000 loops each)\n",
      "2.2 µs ± 63.5 ns per loop (mean ± std. dev. of 7 runs, 100000 loops each)\n"
     ]
    }
   ],
   "source": [
    "%timeit min(big_array)\n",
    "%timeit np.min(big_array)"
   ]
  },
  {
   "cell_type": "code",
   "execution_count": 10,
   "metadata": {},
   "outputs": [
    {
     "name": "stdout",
     "output_type": "stream",
     "text": [
      "0.008108956399923928 0.9885930990134385 53.14837419324378\n"
     ]
    }
   ],
   "source": [
    "print(big_array.min(), big_array.max(), big_array.sum()) "
   ]
  },
  {
   "cell_type": "markdown",
   "metadata": {},
   "source": [
    "NumPy 배열을 다룰 때는 가능한 NumPy 버전의 집계 함수를 사용한다."
   ]
  },
  {
   "cell_type": "markdown",
   "metadata": {},
   "source": [
    "<b>다차원 집계</b>"
   ]
  },
  {
   "cell_type": "code",
   "execution_count": 15,
   "metadata": {},
   "outputs": [
    {
     "name": "stdout",
     "output_type": "stream",
     "text": [
      "[[0.31460604 0.06384497 0.57592773 0.61433615]\n",
      " [0.45565209 0.99302262 0.69674423 0.50434384]\n",
      " [0.70187959 0.0748859  0.42758655 0.68730535]]\n"
     ]
    }
   ],
   "source": [
    "M = np.random.random([3,4])\n",
    "print(M)"
   ]
  },
  {
   "cell_type": "code",
   "execution_count": 12,
   "metadata": {},
   "outputs": [
    {
     "data": {
      "text/plain": [
       "6.458796254549803"
      ]
     },
     "execution_count": 12,
     "metadata": {},
     "output_type": "execute_result"
    }
   ],
   "source": [
    "M.sum()"
   ]
  },
  {
   "cell_type": "code",
   "execution_count": 13,
   "metadata": {},
   "outputs": [
    {
     "data": {
      "text/plain": [
       "array([0.2286629 , 0.23936363, 0.3416399 , 0.19660588])"
      ]
     },
     "execution_count": 13,
     "metadata": {},
     "output_type": "execute_result"
    }
   ],
   "source": [
    "M.min(axis=0)"
   ]
  },
  {
   "cell_type": "code",
   "execution_count": 14,
   "metadata": {},
   "outputs": [
    {
     "data": {
      "text/plain": [
       "array([0.19660588, 0.40690247, 0.23936363])"
      ]
     },
     "execution_count": 14,
     "metadata": {},
     "output_type": "execute_result"
    }
   ],
   "source": [
    "M.min(axis=1)"
   ]
  },
  {
   "cell_type": "markdown",
   "metadata": {},
   "source": [
    "<b>기타 집계 함수</br>"
   ]
  },
  {
   "cell_type": "markdown",
   "metadata": {},
   "source": [
    "<p>표2-3</p>\n",
    "<table style=\"width:100%\">\n",
    "  <tr>\n",
    "    <th>함수명</th>\n",
    "    <th>Nan 안전모드</th> \n",
    "    <th>설명</th>\n",
    "  </tr>\n",
    "  <tr>\n",
    "    <td>np.sum</td>\n",
    "    <td>np.nansum</td> \n",
    "    <td>요소의 합 계산</td>\n",
    "  </tr>\n",
    "  <tr>\n",
    "    <td>np.prod</td>\n",
    "    <td>np.nanprod</td> \n",
    "    <td>요소의 곱 계산</td>\n",
    "  </tr>\n",
    "  <tr>\n",
    "    <td>np.mean</td>\n",
    "    <td>np.nanmean</td> \n",
    "    <td>요소의 평균 계산</td>\n",
    "  </tr>\n",
    "  <tr>\n",
    "    <td>np.std</td>\n",
    "    <td>np.nanstd</td> \n",
    "    <td>표준 편차 계산</td>\n",
    "  </tr>\n",
    "  <tr>\n",
    "    <td>np.var</td>\n",
    "    <td>np.nanvar</td> \n",
    "    <td>분산 계산</td>\n",
    "  </tr>\n",
    "  <tr>\n",
    "    <td>np.min</td>\n",
    "    <td>np.nanmin</td> \n",
    "    <td>최소값 찾기</td>\n",
    "  </tr>\n",
    "  <tr>\n",
    "    <td>np.max</td>\n",
    "    <td>np.nanmax</td> \n",
    "    <td>최대값 찾기</td>\n",
    "  </tr>\n",
    "  <tr>\n",
    "    <td>np.argmin</td>\n",
    "    <td>np.nanargmin</td> \n",
    "    <td>최소값의 인덱스 찾기</td>\n",
    "  </tr>\n",
    "  <tr>\n",
    "    <td>np.argmax</td>\n",
    "    <td>np.nanargmax</td> \n",
    "    <td>최대값의 인덱스 찾기</td>\n",
    "  </tr>\n",
    "  <tr>\n",
    "    <td>np.median</td>\n",
    "    <td>np.nanmedian</td> \n",
    "    <td>요소의 중앙값 찾기</td>\n",
    "  </tr>\n",
    "  <tr>\n",
    "    <td>np.percentile</td>\n",
    "    <td>np.nanpercentile</td> \n",
    "    <td>요소의 순위 기반 백분위 수 계산</td>\n",
    "  </tr>\n",
    "  <tr>\n",
    "    <td>np.any</td>\n",
    "    <td>N/A</td> \n",
    "    <td>요소 중 참이 있는지 검사</td>\n",
    "  </tr>\n",
    "  <tr>\n",
    "    <td>np.all</td>\n",
    "    <td>N/A</td> \n",
    "    <td>모든 요소가 참인지 검사</td>\n",
    "  </tr>\n",
    "</table>"
   ]
  },
  {
   "cell_type": "markdown",
   "metadata": {},
   "source": [
    "<b>예제: 미국 대통령의 평균 신장은 얼마일까?</b>"
   ]
  },
  {
   "cell_type": "code",
   "execution_count": 16,
   "metadata": {
    "scrolled": true
   },
   "outputs": [
    {
     "name": "stdout",
     "output_type": "stream",
     "text": [
      "order,name,height(cm)\r\n",
      "1,George Washington,189\r\n",
      "2,John Adams,170\r\n",
      "3,Thomas Jefferson,189\r\n"
     ]
    }
   ],
   "source": [
    "!head -4 /Users/****/Sites/PythonDataHandbook/president_heights.csv"
   ]
  },
  {
   "cell_type": "markdown",
   "metadata": {},
   "source": [
    "* https://github.com/jakevdp/PythonDataScienceHandbook/tree/master/notebooks/data"
   ]
  },
  {
   "cell_type": "code",
   "execution_count": 22,
   "metadata": {},
   "outputs": [
    {
     "name": "stdout",
     "output_type": "stream",
     "text": [
      "[189 170 189 163 183 171 185 168 173 183 173 173 175 178 183 193 178 173\n",
      " 174 183 183 168 170 178 182 180 183 178 182 188 175 179 183 193 182 183\n",
      " 177 185 188 188 182 185]\n"
     ]
    }
   ],
   "source": [
    "import pandas as pd\n",
    "data = pd.read_csv('/Users/****/Sites/PythonDataHandbook/president_heights.csv')\n",
    "heights = np.array(data['height(cm)'])\n",
    "print(heights)"
   ]
  },
  {
   "cell_type": "code",
   "execution_count": 23,
   "metadata": {},
   "outputs": [
    {
     "name": "stdout",
     "output_type": "stream",
     "text": [
      "Mean height:           179.73809523809524\n",
      "Sttandard height:      6.931843442745892\n",
      "Minimum height:        163\n",
      "Maximun height:        193\n"
     ]
    }
   ],
   "source": [
    "print(\"Mean height:          \", heights.mean())\n",
    "print(\"Sttandard height:     \", heights.std())\n",
    "print(\"Minimum height:       \", heights.min())\n",
    "print(\"Maximun height:       \", heights.max())"
   ]
  },
  {
   "cell_type": "code",
   "execution_count": 24,
   "metadata": {},
   "outputs": [
    {
     "name": "stdout",
     "output_type": "stream",
     "text": [
      "25th pecentiles : 174.25\n",
      "Median          : 182.0\n",
      "75th pecentiles : 183.0\n"
     ]
    }
   ],
   "source": [
    "print(\"25th pecentiles :\", np.percentile(heights, 25))\n",
    "print(\"Median          :\", np.median(heights))\n",
    "print(\"75th pecentiles :\", np.percentile(heights, 75))"
   ]
  },
  {
   "cell_type": "code",
   "execution_count": 25,
   "metadata": {},
   "outputs": [
    {
     "data": {
      "image/png": "[encoded data removed]",
      "text/plain": [
       "<Figure size 432x288 with 1 Axes>"
      ]
     },
     "metadata": {},
     "output_type": "display_data"
    }
   ],
   "source": [
    "%matplotlib inline\n",
    "import matplotlib.pyplot as plt\n",
    "import seaborn; seaborn.set() #플롯 스타일 설정\n",
    "plt.hist(heights)\n",
    "plt.title('Height Distribution of US Presidents')\n",
    "plt.xlabel('height (cm)')\n",
    "plt.ylabel('number');"
   ]
  }
 ],
 "metadata": {
  "kernelspec": {
   "display_name": "Python 3",
   "language": "python",
   "name": "python3"
  },
  "language_info": {
   "codemirror_mode": {
    "name": "ipython",
    "version": 3
   },
   "file_extension": ".py",
   "mimetype": "text/x-python",
   "name": "python",
   "nbconvert_exporter": "python",
   "pygments_lexer": "ipython3",
   "version": "3.6.4"
  }
 },
 "nbformat": 4,
 "nbformat_minor": 2
}
