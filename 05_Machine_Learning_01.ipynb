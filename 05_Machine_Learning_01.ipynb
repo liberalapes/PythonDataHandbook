{
 "cells": [
  {
   "cell_type": "markdown",
   "metadata": {},
   "source": [
    "# 5장 머신러닝"
   ]
  },
  {
   "cell_type": "markdown",
   "metadata": {},
   "source": [
    "편향(bias) <br>\n",
    "분산(bariance) <br>\n",
    "과소적합(underfitting) <br>\n",
    "과적합(overfitting) <br>"
   ]
  },
  {
   "cell_type": "markdown",
   "metadata": {},
   "source": [
    "## <u>머신러닝이란 무엇인가?</u>"
   ]
  },
  {
   "cell_type": "markdown",
   "metadata": {},
   "source": [
    "### 머신러닝의 범주"
   ]
  },
  {
   "cell_type": "markdown",
   "metadata": {},
   "source": [
    "지도 학습(supervised learning) <br>\n",
    "비지도 학습(unsupervised learning) <br>\n",
    "준지도 학습(semi-supervised learning)"
   ]
  },
  {
   "cell_type": "markdown",
   "metadata": {},
   "source": [
    "분류(classification) : 이산적인 범주, 레이블을 참조하지 않고, 데이터세트의 특징을 모델링, 군집화(clustering), 차원축소(dimensionality reduction) <br>\n",
    "회귀(regression) : 연속적인 수량, 데이터의 개별 그룹 식별"
   ]
  },
  {
   "cell_type": "markdown",
   "metadata": {},
   "source": [
    "### 머신러닝 응용의 정성적 사례"
   ]
  },
  {
   "cell_type": "markdown",
   "metadata": {},
   "source": [
    "<b>분류: 이산적인 레이블 예측하기</b><br>예측(predictiond)<br>"
   ]
  },
  {
   "cell_type": "markdown",
   "metadata": {},
   "source": [
    "<b>회귀: 연속적인 레이블 예측하기</b> <br>회귀(regression)"
   ]
  },
  {
   "cell_type": "markdown",
   "metadata": {},
   "source": [
    "<b>군집화: 레이블 없는 데이터에 대한 레이블 추론</b> <br>군집화(clusterung) <br>k_means <br>가우스 혼합 모델(Gaussian mixture model) <br> 스펙트럼 군집화(Scikit-Learn)"
   ]
  },
  {
   "cell_type": "markdown",
   "metadata": {},
   "source": [
    "<b>차원 축소: 레이블 없는 데이터의 구조 추론</b> <br>\n",
    "다양체 학습 알고리즘(manifold learning algorithm)<br> \n",
    "등거리 사상 알고리즘(Isomap algotith)<br>\n",
    "주성분 분석(principle component analysis)<br>\n",
    "등거리 사상<br>\n",
    "국부 선형 임베딩(locally inear embedding)"
   ]
  },
  {
   "cell_type": "markdown",
   "metadata": {},
   "source": [
    "### 정리"
   ]
  },
  {
   "cell_type": "markdown",
   "metadata": {},
   "source": [
    "지도학습 : 레이블이 있는 훈련 데이터를 기반으로 레이블을 얘측할 수 있는 모델 <br>\n",
    "분류 : 둘 이상의 이산적인 범주로 레이블을 예측하는 모델<br>\n",
    "회귀 : 연속적인 레이블을 예측하는 모델<br>\n",
    "비지도 학습 : 레이블이 없는 데이터의 구조를 식별하는 모델 <br>\n",
    "군집화 : 데이터의 개별 그룹을 탑지하고 식별하는 모델 <br>\n",
    "차원축소 : 고차원 데이터의 저차원 구조를 탐지하고 식별하는 모델 \n"
   ]
  },
  {
   "cell_type": "code",
   "execution_count": null,
   "metadata": {},
   "outputs": [],
   "source": []
  }
 ],
 "metadata": {
  "kernelspec": {
   "display_name": "Python 3",
   "language": "python",
   "name": "python3"
  },
  "language_info": {
   "codemirror_mode": {
    "name": "ipython",
    "version": 3
   },
   "file_extension": ".py",
   "mimetype": "text/x-python",
   "name": "python",
   "nbconvert_exporter": "python",
   "pygments_lexer": "ipython3",
   "version": "3.6.5"
  }
 },
 "nbformat": 4,
 "nbformat_minor": 2
}
