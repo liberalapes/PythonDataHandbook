{
 "cells": [
  {
   "cell_type": "markdown",
   "metadata": {},
   "source": [
    "# 4장 Matplotlib을 활용한 시작화"
   ]
  },
  {
   "cell_type": "markdown",
   "metadata": {},
   "source": [
    "## <u>포맷 지시자와 위치 지시자 요약</u>"
   ]
  },
  {
   "cell_type": "markdown",
   "metadata": {},
   "source": [
    "<table style=\"width:100%\">\n",
    "  <tr>\n",
    "    <th>위치 지시자 클래스</th>\n",
    "    <th>설명</th> \n",
    "  </tr>\n",
    "  <tr>\n",
    "    <td>NullLocator</td>\n",
    "    <td>눈금이 없음</td> \n",
    "  </tr>\n",
    "  <tr>\n",
    "    <td>FixedLocator</td>\n",
    "    <td>눈금 위치가 고정됨</td> \n",
    "  </tr>\n",
    "  <tr>\n",
    "    <td>IndexLocator</td>\n",
    "    <td>인덱스 플롯을 위한 위치 지시자</td> \n",
    "  </tr>\n",
    "  <tr>\n",
    "    <td>LinearLocator</td>\n",
    "    <td>min부터 max까지 일정한 간격을 두고 눈금을 위치시킴</td> \n",
    "  </tr>\n",
    "  <tr>\n",
    "    <td>LogLocator</td>\n",
    "    <td>min부터 max까지 로그 단위로 눈금을 위치시킴</td> \n",
    "  </tr>\n",
    "  <tr>\n",
    "    <td>MultipleLocator</td>\n",
    "    <td>눈금고 범위와 기본값의 배수임</td> \n",
    "  </tr>\n",
    "  <tr>\n",
    "    <td>MaxNLocator</td>\n",
    "    <td>눈금 최대 숫자에 맞게 적절한 위치를 찾음</td> \n",
    "  </tr>\n",
    "  <tr>\n",
    "    <td>AutoLocator</td>\n",
    "    <td>(기본 설정) 간단한 기본값을 가지는 MaxNLocator</td> \n",
    "  </tr>\n",
    "  <tr>\n",
    "    <td>AutoMinorLocator</td>\n",
    "    <td>보조 누금에 대한 위치 지시자</td> \n",
    "  </tr>\n",
    "</table>"
   ]
  },
  {
   "cell_type": "markdown",
   "metadata": {},
   "source": [
    "<table style=\"width:100%\">\n",
    "  <tr>\n",
    "    <th>서식 지시자 클래스</th>\n",
    "    <th>설명</th> \n",
    "  </tr>\n",
    "  <tr>\n",
    "    <td>NullFormatter</td>\n",
    "    <td>눈금 레이블이 없음</td> \n",
    "  </tr>\n",
    "  <tr>\n",
    "    <td>IndexFormatter</td>\n",
    "    <td>레이블 목록에서 문자열을 설정함</td> \n",
    "  </tr>\n",
    "  <tr>\n",
    "    <td>FixedFormatter</td>\n",
    "    <td>레이블에 직접 문자열을 설정함</td> \n",
    "  </tr>\n",
    "  <tr>\n",
    "    <td>FuncFormatter</td>\n",
    "    <td>사용자 정의 함수가 레이블을 설정함</td> \n",
    "  </tr>\n",
    "  <tr>\n",
    "    <td>FormatFormatter</td>\n",
    "    <td>각 값에 대한 포맷 문자열을 사용함</td> \n",
    "  </tr>\n",
    "  <tr>\n",
    "    <td>ScalarFormatter</td>\n",
    "    <td>(기본 설정) 스칼라값에 대한 포맷 지시자</td> \n",
    "  </tr>\n",
    "  <tr>\n",
    "    <td>LogFormatter</td>\n",
    "    <td>로그 축에 대한 기본 포맷 지시자</td> \n",
    "  </tr>\n",
    "</table>"
   ]
  }
 ],
 "metadata": {
  "kernelspec": {
   "display_name": "Python 3",
   "language": "python",
   "name": "python3"
  },
  "language_info": {
   "codemirror_mode": {
    "name": "ipython",
    "version": 3
   },
   "file_extension": ".py",
   "mimetype": "text/x-python",
   "name": "python",
   "nbconvert_exporter": "python",
   "pygments_lexer": "ipython3",
   "version": "3.6.5"
  }
 },
 "nbformat": 4,
 "nbformat_minor": 2
}
